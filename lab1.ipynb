{
 "cells": [
  {
   "attachments": {},
   "cell_type": "markdown",
   "id": "309ff64c",
   "metadata": {},
   "source": [
    "# Побудова регресійної моделі"
   ]
  },
  {
   "attachments": {},
   "cell_type": "markdown",
   "id": "11cdeaba",
   "metadata": {},
   "source": [
    "#### Імпорт необхідних бібліотек"
   ]
  },
  {
   "cell_type": "code",
   "execution_count": 34,
   "id": "30544ba4",
   "metadata": {},
   "outputs": [],
   "source": [
    "import pandas as pd\n",
    "import seaborn as sns\n",
    "import numpy as np\n",
    "from matplotlib import pyplot as plt\n",
    "import scipy\n",
    "import sklearn\n",
    "import math"
   ]
  },
  {
   "attachments": {},
   "cell_type": "markdown",
   "id": "df9dbe59",
   "metadata": {},
   "source": [
    "##### Зчитування csv файлу \n",
    "Джерело даних - https://www.kaggle.com/datasets/shubham47/students-score-dataset-linear-regression"
   ]
  },
  {
   "cell_type": "code",
   "execution_count": 35,
   "id": "bb6fbe22",
   "metadata": {},
   "outputs": [
    {
     "data": {
      "text/html": [
       "<div>\n",
       "<style scoped>\n",
       "    .dataframe tbody tr th:only-of-type {\n",
       "        vertical-align: middle;\n",
       "    }\n",
       "\n",
       "    .dataframe tbody tr th {\n",
       "        vertical-align: top;\n",
       "    }\n",
       "\n",
       "    .dataframe thead th {\n",
       "        text-align: right;\n",
       "    }\n",
       "</style>\n",
       "<table border=\"1\" class=\"dataframe\">\n",
       "  <thead>\n",
       "    <tr style=\"text-align: right;\">\n",
       "      <th></th>\n",
       "      <th>Hours</th>\n",
       "      <th>Scores</th>\n",
       "    </tr>\n",
       "  </thead>\n",
       "  <tbody>\n",
       "    <tr>\n",
       "      <th>0</th>\n",
       "      <td>2.5</td>\n",
       "      <td>21</td>\n",
       "    </tr>\n",
       "    <tr>\n",
       "      <th>1</th>\n",
       "      <td>5.1</td>\n",
       "      <td>47</td>\n",
       "    </tr>\n",
       "    <tr>\n",
       "      <th>2</th>\n",
       "      <td>3.2</td>\n",
       "      <td>27</td>\n",
       "    </tr>\n",
       "    <tr>\n",
       "      <th>3</th>\n",
       "      <td>8.5</td>\n",
       "      <td>75</td>\n",
       "    </tr>\n",
       "    <tr>\n",
       "      <th>4</th>\n",
       "      <td>3.5</td>\n",
       "      <td>30</td>\n",
       "    </tr>\n",
       "  </tbody>\n",
       "</table>\n",
       "</div>"
      ],
      "text/plain": [
       "   Hours  Scores\n",
       "0    2.5      21\n",
       "1    5.1      47\n",
       "2    3.2      27\n",
       "3    8.5      75\n",
       "4    3.5      30"
      ]
     },
     "execution_count": 35,
     "metadata": {},
     "output_type": "execute_result"
    }
   ],
   "source": [
    "df = pd.read_csv('./student_scores.csv')\n",
    "df.head()"
   ]
  },
  {
   "cell_type": "code",
   "execution_count": 36,
   "id": "4b068c4f",
   "metadata": {},
   "outputs": [
    {
     "data": {
      "text/html": [
       "<div>\n",
       "<style scoped>\n",
       "    .dataframe tbody tr th:only-of-type {\n",
       "        vertical-align: middle;\n",
       "    }\n",
       "\n",
       "    .dataframe tbody tr th {\n",
       "        vertical-align: top;\n",
       "    }\n",
       "\n",
       "    .dataframe thead th {\n",
       "        text-align: right;\n",
       "    }\n",
       "</style>\n",
       "<table border=\"1\" class=\"dataframe\">\n",
       "  <thead>\n",
       "    <tr style=\"text-align: right;\">\n",
       "      <th></th>\n",
       "      <th>Hours</th>\n",
       "      <th>Scores</th>\n",
       "    </tr>\n",
       "  </thead>\n",
       "  <tbody>\n",
       "    <tr>\n",
       "      <th>count</th>\n",
       "      <td>25.000000</td>\n",
       "      <td>25.000000</td>\n",
       "    </tr>\n",
       "    <tr>\n",
       "      <th>mean</th>\n",
       "      <td>5.012000</td>\n",
       "      <td>51.480000</td>\n",
       "    </tr>\n",
       "    <tr>\n",
       "      <th>std</th>\n",
       "      <td>2.525094</td>\n",
       "      <td>25.286887</td>\n",
       "    </tr>\n",
       "    <tr>\n",
       "      <th>min</th>\n",
       "      <td>1.100000</td>\n",
       "      <td>17.000000</td>\n",
       "    </tr>\n",
       "    <tr>\n",
       "      <th>25%</th>\n",
       "      <td>2.700000</td>\n",
       "      <td>30.000000</td>\n",
       "    </tr>\n",
       "    <tr>\n",
       "      <th>50%</th>\n",
       "      <td>4.800000</td>\n",
       "      <td>47.000000</td>\n",
       "    </tr>\n",
       "    <tr>\n",
       "      <th>75%</th>\n",
       "      <td>7.400000</td>\n",
       "      <td>75.000000</td>\n",
       "    </tr>\n",
       "    <tr>\n",
       "      <th>max</th>\n",
       "      <td>9.200000</td>\n",
       "      <td>95.000000</td>\n",
       "    </tr>\n",
       "  </tbody>\n",
       "</table>\n",
       "</div>"
      ],
      "text/plain": [
       "           Hours     Scores\n",
       "count  25.000000  25.000000\n",
       "mean    5.012000  51.480000\n",
       "std     2.525094  25.286887\n",
       "min     1.100000  17.000000\n",
       "25%     2.700000  30.000000\n",
       "50%     4.800000  47.000000\n",
       "75%     7.400000  75.000000\n",
       "max     9.200000  95.000000"
      ]
     },
     "execution_count": 36,
     "metadata": {},
     "output_type": "execute_result"
    }
   ],
   "source": [
    "df.describe()"
   ]
  },
  {
   "attachments": {},
   "cell_type": "markdown",
   "id": "0a8ad5e0",
   "metadata": {},
   "source": [
    "#### Побудова регресійної моделі засобами бібліотеки seaborn"
   ]
  },
  {
   "cell_type": "code",
   "execution_count": 37,
   "id": "e5471b15",
   "metadata": {},
   "outputs": [
    {
     "data": {
      "text/plain": [
       "<Axes: xlabel='Hours', ylabel='Scores'>"
      ]
     },
     "execution_count": 37,
     "metadata": {},
     "output_type": "execute_result"
    },
    {
     "data": {
      "image/png": "[encoded data removed]",
      "text/plain": [
       "<Figure size 640x480 with 1 Axes>"
      ]
     },
     "metadata": {},
     "output_type": "display_data"
    }
   ],
   "source": [
    "sns.regplot(data=df, x='Hours', y=\"Scores\")"
   ]
  },
  {
   "attachments": {},
   "cell_type": "markdown",
   "id": "7e53059d",
   "metadata": {},
   "source": [
    "#### Побудова регресійної моделі власноруч"
   ]
  },
  {
   "cell_type": "code",
   "execution_count": 38,
   "id": "0f4bf370",
   "metadata": {},
   "outputs": [],
   "source": [
    "X = df.iloc[:,0].values\n",
    "Y = df.iloc[:,1].values"
   ]
  },
  {
   "cell_type": "code",
   "execution_count": 39,
   "id": "b79f2232",
   "metadata": {},
   "outputs": [],
   "source": [
    "_X = np.column_stack((np.repeat(1, len(X)), X))\n",
    "a0, a1 = np.dot(np.dot(np.linalg.inv(np.dot(np.transpose(_X), _X)), np.transpose(_X)), Y)\n",
    "y = lambda x: a0+a1*x\n",
    "Y_pred = np.array(list(map(y, X)))"
   ]
  },
  {
   "cell_type": "code",
   "execution_count": 40,
   "id": "e5c497aa",
   "metadata": {},
   "outputs": [
    {
     "data": {
      "text/plain": [
       "[<matplotlib.lines.Line2D at 0x25f96e5d490>]"
      ]
     },
     "execution_count": 40,
     "metadata": {},
     "output_type": "execute_result"
    },
    {
     "data": {
      "image/png": "[encoded data removed]",
      "text/plain": [
       "<Figure size 640x480 with 1 Axes>"
      ]
     },
     "metadata": {},
     "output_type": "display_data"
    }
   ],
   "source": [
    "plt.scatter(X, Y)\n",
    "plt.plot(X, Y_pred)"
   ]
  },
  {
   "attachments": {},
   "cell_type": "markdown",
   "id": "2c8ce936",
   "metadata": {},
   "source": [
    "#### Характеристики регресійної моделі\n"
   ]
  },
  {
   "attachments": {},
   "cell_type": "markdown",
   "id": "06850033",
   "metadata": {},
   "source": [
    "Коефіцієнт кореляції"
   ]
  },
  {
   "cell_type": "code",
   "execution_count": 41,
   "id": "1d7912da",
   "metadata": {},
   "outputs": [
    {
     "data": {
      "text/plain": [
       "0.9761906560220884"
      ]
     },
     "execution_count": 41,
     "metadata": {},
     "output_type": "execute_result"
    }
   ],
   "source": [
    "R = scipy.stats.pearsonr(X, Y)[0]\n",
    "R"
   ]
  },
  {
   "attachments": {},
   "cell_type": "markdown",
   "id": "04831ce0",
   "metadata": {},
   "source": [
    "Коефіцієнт детермінації"
   ]
  },
  {
   "cell_type": "code",
   "execution_count": 42,
   "id": "f4619ed9",
   "metadata": {},
   "outputs": [
    {
     "data": {
      "text/plain": [
       "0.9529481969048356"
      ]
     },
     "execution_count": 42,
     "metadata": {},
     "output_type": "execute_result"
    }
   ],
   "source": [
    "R_square = sklearn.metrics.r2_score(Y, Y_pred) \n",
    "R_square"
   ]
  },
  {
   "cell_type": "code",
   "execution_count": 43,
   "id": "a531ff58",
   "metadata": {},
   "outputs": [],
   "source": [
    "n, m, k1 = len(X), 1, 1\n",
    "k2 = n - m - 1\n",
    "alpha = .05"
   ]
  },
  {
   "attachments": {},
   "cell_type": "markdown",
   "id": "04b58692",
   "metadata": {},
   "source": [
    "Фактичний F-критерій"
   ]
  },
  {
   "cell_type": "code",
   "execution_count": 44,
   "id": "5c56e90e",
   "metadata": {},
   "outputs": [
    {
     "data": {
      "text/plain": [
       "465.8229246705263"
      ]
     },
     "execution_count": 44,
     "metadata": {},
     "output_type": "execute_result"
    }
   ],
   "source": [
    "F_R = (R_square/(1-R_square))*((n-m-1)/m)\n",
    "F_R"
   ]
  },
  {
   "attachments": {},
   "cell_type": "markdown",
   "id": "55eec257",
   "metadata": {},
   "source": [
    "Табличний F-критерій (Фішера-Снедекора)"
   ]
  },
  {
   "cell_type": "code",
   "execution_count": 45,
   "id": "71eeb093",
   "metadata": {},
   "outputs": [
    {
     "data": {
      "text/plain": [
       "4.279344309144648"
      ]
     },
     "execution_count": 45,
     "metadata": {},
     "output_type": "execute_result"
    }
   ],
   "source": [
    "F_alpha_k1_k2 = scipy.stats.f.ppf(q=1-alpha, dfn=k1, dfd=k2)\n",
    "F_alpha_k1_k2"
   ]
  },
  {
   "attachments": {},
   "cell_type": "markdown",
   "id": "7894a1be",
   "metadata": {},
   "source": [
    "Статистична значущість коефіцієнта детермінації\n"
   ]
  },
  {
   "cell_type": "code",
   "execution_count": 73,
   "id": "1c395c39",
   "metadata": {},
   "outputs": [
    {
     "name": "stdout",
     "output_type": "stream",
     "text": [
      "Коефіцієнт детермінації статистично значимий\n"
     ]
    }
   ],
   "source": [
    "if(F_R > F_alpha_k1_k2):\n",
    "    print(\"Коефіцієнт детермінації статистично значимий\")\n",
    "else:\n",
    "    print(\"Коефіцієнт детермінації НЕ статистично значимий\")"
   ]
  },
  {
   "attachments": {},
   "cell_type": "markdown",
   "id": "e5313885",
   "metadata": {},
   "source": [
    "Істотність зв'язку між залежною і незалежними змінними регресійної моделі"
   ]
  },
  {
   "cell_type": "code",
   "execution_count": 72,
   "id": "942a5a50",
   "metadata": {},
   "outputs": [],
   "source": [
    "sigma_u2 = sum((Y- Y_pred)**2)/k2\n",
    "sigma_y2 = sum(list(map(lambda y: (y-np.average(Y))**2, Y)))/(n - 1)\n",
    "F = (sigma_y2 - sigma_u2)/sigma_u2"
   ]
  },
  {
   "cell_type": "code",
   "execution_count": 49,
   "id": "db4be545",
   "metadata": {},
   "outputs": [
    {
     "name": "stdout",
     "output_type": "stream",
     "text": [
      "ГІПОТЕЗА про істотність зв'язку між залежною і незалежними змінними регресійної моделі ПІДТВЕРДЖУЄТЬСЯ\n"
     ]
    }
   ],
   "source": [
    "if(F > F_alpha_k1_k2):\n",
    "    print(\"ГІПОТЕЗА про істотність зв'язку між залежною і незалежними змінними регресійної моделі ПІДТВЕРДЖУЄТЬСЯ\")\n",
    "else:\n",
    "    print(\"ГІПОТЕЗА про істотність зв'язку між залежною і незалежними змінними регресійної моделі НЕ ПІДТВЕРДЖУЄТЬСЯ\")"
   ]
  },
  {
   "attachments": {},
   "cell_type": "markdown",
   "id": "e7632eb7",
   "metadata": {},
   "source": [
    "Перевірка статистичної значущості параметра a1"
   ]
  },
  {
   "cell_type": "code",
   "execution_count": 50,
   "id": "d0edc1eb",
   "metadata": {},
   "outputs": [],
   "source": [
    "sigma_a1 = math.sqrt(sigma_u2*np.linalg.inv(np.dot(np.transpose(_X), _X))[1][1])"
   ]
  },
  {
   "cell_type": "code",
   "execution_count": 51,
   "id": "4fafd034",
   "metadata": {},
   "outputs": [],
   "source": [
    "t1 = abs(a1)/sigma_a1\n",
    "t_table = scipy.stats.t.ppf(1-alpha/2,df=k2)"
   ]
  },
  {
   "cell_type": "code",
   "execution_count": 52,
   "id": "0ab2ea3a",
   "metadata": {},
   "outputs": [
    {
     "name": "stdout",
     "output_type": "stream",
     "text": [
      "Параметр a1 є статистично значимий\n"
     ]
    }
   ],
   "source": [
    "if(t1 > t_table):\n",
    "    print(\"Параметр a1 є статистично значимий\")\n",
    "else:\n",
    "    print(\"Параметр a1 НЕ є статистично значимий\")"
   ]
  },
  {
   "attachments": {},
   "cell_type": "markdown",
   "id": "a5f2277d",
   "metadata": {},
   "source": [
    "Довірчий інтервал параметра a1"
   ]
  },
  {
   "cell_type": "code",
   "execution_count": 53,
   "id": "e843d55a",
   "metadata": {},
   "outputs": [
    {
     "name": "stdout",
     "output_type": "stream",
     "text": [
      "8.838822691742388 < a1 < 10.712784089832555\n"
     ]
    }
   ],
   "source": [
    "print(a1-t_table*sigma_a1, '< a1 <', a1+t_table*sigma_a1)"
   ]
  },
  {
   "attachments": {},
   "cell_type": "markdown",
   "id": "53f41eb2",
   "metadata": {},
   "source": [
    "Довірчі інтервали для y0 при точковому значенні показника x0=9.75"
   ]
  },
  {
   "cell_type": "code",
   "execution_count": 62,
   "id": "4e936c7b",
   "metadata": {},
   "outputs": [],
   "source": [
    "x0 = 9.75\n",
    "y0 = y(x0)\n"
   ]
  },
  {
   "cell_type": "code",
   "execution_count": 60,
   "id": "a6e2d50d",
   "metadata": {},
   "outputs": [],
   "source": [
    "temp = np.dot(np.dot(np.array([1, x0]), np.linalg.inv(np.dot(np.transpose(_X), _X))), np.array([1, x0]).reshape(2,1)).item()\n",
    "sigma_n2 = sigma_u2*temp\n"
   ]
  },
  {
   "cell_type": "code",
   "execution_count": 71,
   "id": "d98d5592",
   "metadata": {},
   "outputs": [
    {
     "name": "stdout",
     "output_type": "stream",
     "text": [
      "З імовірністю P=0.95 прогноз математичного сподівання M(y0) потрапляє в інтервал [92.78953546561569,102.80597746548641]\n",
      "З імовірністю P=0.95 прогноз індивідуального значення y0 потрапляє в інтервал [85.17122970402568,110.42428322707642]\n"
     ]
    }
   ],
   "source": [
    "M_y0_min = y0 - t_table*math.sqrt(sigma_n2)\n",
    "M_y0_max = y0 + t_table*math.sqrt(sigma_n2)\n",
    "\n",
    "print(str('З імовірністю P=')+str(1-alpha)+str(' прогноз математичного сподівання M(y0) потрапляє в інтервал [')+\n",
    "      str(M_y0_min)+str(',')+str(M_y0_max)+str(']'))\n",
    "\n",
    "y0_min = y0 - t_table*math.sqrt(sigma_u2*(1+temp))\n",
    "y0_max = y0 + t_table*math.sqrt(sigma_u2*(1+temp))\n",
    "\n",
    "print(str('З імовірністю P=')+str(1-alpha)+str(' прогноз індивідуального значення y0 потрапляє в інтервал [')+\n",
    "      str(y0_min)+str(',')+str(y0_max)+str(']'))"
   ]
  }
 ],
 "metadata": {
  "kernelspec": {
   "display_name": "Python 3 (ipykernel)",
   "language": "python",
   "name": "python3"
  },
  "language_info": {
   "codemirror_mode": {
    "name": "ipython",
    "version": 3
   },
   "file_extension": ".py",
   "mimetype": "text/x-python",
   "name": "python",
   "nbconvert_exporter": "python",
   "pygments_lexer": "ipython3",
   "version": "3.11.2"
  }
 },
 "nbformat": 4,
 "nbformat_minor": 5
}
